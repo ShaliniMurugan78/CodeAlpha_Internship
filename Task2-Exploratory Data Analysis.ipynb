{
 "cells": [
  {
   "cell_type": "markdown",
   "id": "8e07afbf",
   "metadata": {},
   "source": [
    "# 🧠 Titanic Dataset Exploratory Data Analysis\n",
    "\n",
    "This notebook performs an in-depth EDA on the Titanic dataset."
   ]
  },
  {
   "cell_type": "code",
   "execution_count": null,
   "id": "caf5d790",
   "metadata": {},
   "outputs": [],
   "source": [
    "import pandas as pd\n",
    "import numpy as np\n",
    "import matplotlib.pyplot as plt\n",
    "import seaborn as sns\n",
    "from scipy.stats import chi2_contingency, ttest_ind\n",
    "\n",
    "sns.set(style=\"whitegrid\")\n"
   ]
  },
  {
   "cell_type": "code",
   "execution_count": null,
   "id": "8872744b",
   "metadata": {},
   "outputs": [],
   "source": [
    "# Upload the dataset first or place in the same folder\n",
    "df = pd.read_csv(\"train.csv\")\n",
    "df.head()"
   ]
  },
  {
   "cell_type": "markdown",
   "id": "d95d6d6d",
   "metadata": {},
   "source": [
    "### ❓ Questions to Explore\n",
    "\n",
    "1. What factors influenced passenger survival?\n",
    "\n",
    "2. Does age or gender affect survival rate?\n",
    "\n",
    "3. Are people in higher classes more likely to survive?\n",
    "\n",
    "4. Are there missing values?\n",
    "\n",
    "5. Are there outliers in age or fare?\n"
   ]
  },
  {
   "cell_type": "code",
   "execution_count": null,
   "id": "35d28cf6",
   "metadata": {},
   "outputs": [],
   "source": [
    "df.info()\n",
    "df.describe(include='all')"
   ]
  },
  {
   "cell_type": "code",
   "execution_count": null,
   "id": "b23369e6",
   "metadata": {},
   "outputs": [],
   "source": [
    "df.isnull().sum()"
   ]
  },
  {
   "cell_type": "code",
   "execution_count": null,
   "id": "5d0fc408",
   "metadata": {},
   "outputs": [],
   "source": [
    "# Survival Count\n",
    "sns.countplot(x='Survived', data=df)\n",
    "plt.title('Survival Count')\n",
    "plt.show()\n",
    "\n",
    "# Age Distribution\n",
    "sns.histplot(df['Age'].dropna(), kde=True)\n",
    "plt.title('Age Distribution')\n",
    "plt.show()\n"
   ]
  },
  {
   "cell_type": "code",
   "execution_count": null,
   "id": "8fd71763",
   "metadata": {},
   "outputs": [],
   "source": [
    "# Gender vs Survival\n",
    "sns.barplot(x='Sex', y='Survived', data=df)\n",
    "plt.title('Survival Rate by Gender')\n",
    "plt.show()\n",
    "\n",
    "# Class vs Survival\n",
    "sns.barplot(x='Pclass', y='Survived', data=df)\n",
    "plt.title('Survival Rate by Class')\n",
    "plt.show()\n",
    "\n",
    "# Age vs Survived\n",
    "sns.boxplot(x='Survived', y='Age', data=df)\n",
    "plt.title('Age Distribution by Survival')\n",
    "plt.show()\n"
   ]
  },
  {
   "cell_type": "code",
   "execution_count": null,
   "id": "ade46208",
   "metadata": {},
   "outputs": [],
   "source": [
    "# Gender survival hypothesis\n",
    "male_survival = df[df['Sex'] == 'male']['Survived']\n",
    "female_survival = df[df['Sex'] == 'female']['Survived']\n",
    "\n",
    "t_stat, p_val = ttest_ind(female_survival, male_survival)\n",
    "print(\"T-statistic:\", t_stat, \" | P-value:\", p_val)\n",
    "\n",
    "if p_val < 0.05:\n",
    "    print(\"✅ Statistically significant difference between male and female survival.\")\n",
    "else:\n",
    "    print(\"❌ No significant difference.\")\n"
   ]
  },
  {
   "cell_type": "code",
   "execution_count": null,
   "id": "d5706fd4",
   "metadata": {},
   "outputs": [],
   "source": [
    "# Class vs Survival - Chi-square test\n",
    "contingency = pd.crosstab(df['Pclass'], df['Survived'])\n",
    "chi2, p, _, _ = chi2_contingency(contingency)\n",
    "print(\"Chi-square:\", chi2, \"| P-value:\", p)\n",
    "\n",
    "if p < 0.05:\n",
    "    print(\"✅ Passenger class has a significant effect on survival.\")\n",
    "else:\n",
    "    print(\"❌ No significant relationship.\")\n"
   ]
  },
  {
   "cell_type": "code",
   "execution_count": null,
   "id": "f85673c6",
   "metadata": {},
   "outputs": [],
   "source": [
    "# Age Group survival\n",
    "df['AgeGroup'] = pd.cut(df['Age'], bins=[0,12,18,60,80], labels=['Child','Teen','Adult','Senior'])\n",
    "sns.barplot(x='AgeGroup', y='Survived', data=df)\n",
    "plt.title('Survival Rate by Age Group')\n",
    "plt.show()\n"
   ]
  },
  {
   "cell_type": "code",
   "execution_count": null,
   "id": "f8cc2c17",
   "metadata": {},
   "outputs": [],
   "source": [
    "# Outliers in Fare\n",
    "sns.boxplot(x=df['Fare'])\n",
    "plt.title('Fare Outliers')\n",
    "plt.show()\n"
   ]
  },
  {
   "cell_type": "markdown",
   "id": "b8d24e6a",
   "metadata": {},
   "source": [
    "### ⚠️ Potential Data Issues\n",
    "\n",
    "- Missing values in 'Age', 'Cabin', 'Embarked'\n",
    "\n",
    "- Cabin has too many missing values – consider dropping it\n",
    "\n",
    "- Convert categorical columns before modeling\n"
   ]
  }
 ],
 "metadata": {},
 "nbformat": 4,
 "nbformat_minor": 5
}
